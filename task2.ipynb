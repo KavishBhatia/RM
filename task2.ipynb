{
 "cells": [
  {
   "cell_type": "code",
   "execution_count": 69,
   "metadata": {},
   "outputs": [
    {
     "data": {
      "text/html": [
       "<div>\n",
       "<style scoped>\n",
       "    .dataframe tbody tr th:only-of-type {\n",
       "        vertical-align: middle;\n",
       "    }\n",
       "\n",
       "    .dataframe tbody tr th {\n",
       "        vertical-align: top;\n",
       "    }\n",
       "\n",
       "    .dataframe thead th {\n",
       "        text-align: right;\n",
       "    }\n",
       "</style>\n",
       "<table border=\"1\" class=\"dataframe\">\n",
       "  <thead>\n",
       "    <tr style=\"text-align: right;\">\n",
       "      <th></th>\n",
       "      <th>#</th>\n",
       "      <th>Sex</th>\n",
       "      <th>Wr.Hnd</th>\n",
       "      <th>NW.Hnd</th>\n",
       "      <th>Wr.H</th>\n",
       "      <th>Fold</th>\n",
       "      <th>Pulse</th>\n",
       "      <th>Clap</th>\n",
       "      <th>Exer</th>\n",
       "      <th>Smoke</th>\n",
       "      <th>Height</th>\n",
       "      <th>M/I</th>\n",
       "      <th>Age</th>\n",
       "    </tr>\n",
       "  </thead>\n",
       "  <tbody>\n",
       "    <tr>\n",
       "      <th>0</th>\n",
       "      <td>1</td>\n",
       "      <td>Female</td>\n",
       "      <td>19.5</td>\n",
       "      <td>20.0</td>\n",
       "      <td>NaN</td>\n",
       "      <td>L on R</td>\n",
       "      <td>79.0</td>\n",
       "      <td>Right</td>\n",
       "      <td>Some</td>\n",
       "      <td>Never</td>\n",
       "      <td>170.0</td>\n",
       "      <td>Metric</td>\n",
       "      <td>24.0</td>\n",
       "    </tr>\n",
       "    <tr>\n",
       "      <th>1</th>\n",
       "      <td>2</td>\n",
       "      <td>Female</td>\n",
       "      <td>20.2</td>\n",
       "      <td>20.7</td>\n",
       "      <td>NaN</td>\n",
       "      <td>R on L</td>\n",
       "      <td>80.0</td>\n",
       "      <td>Right</td>\n",
       "      <td>Freq</td>\n",
       "      <td>Never</td>\n",
       "      <td>168.0</td>\n",
       "      <td>Metric</td>\n",
       "      <td>26.0</td>\n",
       "    </tr>\n",
       "    <tr>\n",
       "      <th>2</th>\n",
       "      <td>3</td>\n",
       "      <td>Female</td>\n",
       "      <td>21.0</td>\n",
       "      <td>21.1</td>\n",
       "      <td>NaN</td>\n",
       "      <td>L on R</td>\n",
       "      <td>82.0</td>\n",
       "      <td>Right</td>\n",
       "      <td>Some</td>\n",
       "      <td>Occas</td>\n",
       "      <td>158.0</td>\n",
       "      <td>Metric</td>\n",
       "      <td>27.0</td>\n",
       "    </tr>\n",
       "    <tr>\n",
       "      <th>3</th>\n",
       "      <td>4</td>\n",
       "      <td>Male</td>\n",
       "      <td>20.5</td>\n",
       "      <td>18.4</td>\n",
       "      <td>Right</td>\n",
       "      <td>Right</td>\n",
       "      <td>79.0</td>\n",
       "      <td>Right</td>\n",
       "      <td>Some</td>\n",
       "      <td>Never</td>\n",
       "      <td>173.0</td>\n",
       "      <td>Metric</td>\n",
       "      <td>28.0</td>\n",
       "    </tr>\n",
       "    <tr>\n",
       "      <th>4</th>\n",
       "      <td>5</td>\n",
       "      <td>Male</td>\n",
       "      <td>21.4</td>\n",
       "      <td>18.5</td>\n",
       "      <td>Right</td>\n",
       "      <td>Right</td>\n",
       "      <td>89.0</td>\n",
       "      <td>Right</td>\n",
       "      <td>None</td>\n",
       "      <td>Never</td>\n",
       "      <td>170.0</td>\n",
       "      <td>Metric</td>\n",
       "      <td>25.0</td>\n",
       "    </tr>\n",
       "    <tr>\n",
       "      <th>5</th>\n",
       "      <td>6</td>\n",
       "      <td>Male</td>\n",
       "      <td>20.5</td>\n",
       "      <td>21.1</td>\n",
       "      <td>Right</td>\n",
       "      <td>Right</td>\n",
       "      <td>79.0</td>\n",
       "      <td>Neither</td>\n",
       "      <td>Some</td>\n",
       "      <td>Never</td>\n",
       "      <td>178.0</td>\n",
       "      <td>Metric</td>\n",
       "      <td>28.0</td>\n",
       "    </tr>\n",
       "    <tr>\n",
       "      <th>6</th>\n",
       "      <td>7</td>\n",
       "      <td>Male</td>\n",
       "      <td>22.5</td>\n",
       "      <td>21.5</td>\n",
       "      <td>Right</td>\n",
       "      <td>L on R</td>\n",
       "      <td>64.0</td>\n",
       "      <td>Neither</td>\n",
       "      <td>Freq</td>\n",
       "      <td>Regul</td>\n",
       "      <td>189.0</td>\n",
       "      <td>Metric</td>\n",
       "      <td>22.0</td>\n",
       "    </tr>\n",
       "    <tr>\n",
       "      <th>7</th>\n",
       "      <td>8</td>\n",
       "      <td>Female</td>\n",
       "      <td>19.5</td>\n",
       "      <td>20.5</td>\n",
       "      <td>Right</td>\n",
       "      <td>L on R</td>\n",
       "      <td>75.0</td>\n",
       "      <td>Neither</td>\n",
       "      <td>Some</td>\n",
       "      <td>Never</td>\n",
       "      <td>163.0</td>\n",
       "      <td>Metric</td>\n",
       "      <td>23.0</td>\n",
       "    </tr>\n",
       "    <tr>\n",
       "      <th>8</th>\n",
       "      <td>9</td>\n",
       "      <td>Male</td>\n",
       "      <td>21.0</td>\n",
       "      <td>22.0</td>\n",
       "      <td>Right</td>\n",
       "      <td>L on R</td>\n",
       "      <td>66.0</td>\n",
       "      <td>Right</td>\n",
       "      <td>Some</td>\n",
       "      <td>Never</td>\n",
       "      <td>174.0</td>\n",
       "      <td>Metric</td>\n",
       "      <td>28.0</td>\n",
       "    </tr>\n",
       "    <tr>\n",
       "      <th>9</th>\n",
       "      <td>10</td>\n",
       "      <td>Male</td>\n",
       "      <td>22.5</td>\n",
       "      <td>22.7</td>\n",
       "      <td>Right</td>\n",
       "      <td>R on L</td>\n",
       "      <td>73.0</td>\n",
       "      <td>Neither</td>\n",
       "      <td>Freq</td>\n",
       "      <td>Never</td>\n",
       "      <td>181.0</td>\n",
       "      <td>Metric</td>\n",
       "      <td>28.0</td>\n",
       "    </tr>\n",
       "    <tr>\n",
       "      <th>10</th>\n",
       "      <td>11</td>\n",
       "      <td>Female</td>\n",
       "      <td>18.6</td>\n",
       "      <td>18.4</td>\n",
       "      <td>Right</td>\n",
       "      <td>R on L</td>\n",
       "      <td>88.0</td>\n",
       "      <td>Left</td>\n",
       "      <td>Freq</td>\n",
       "      <td>Occas</td>\n",
       "      <td>174.0</td>\n",
       "      <td>Metric</td>\n",
       "      <td>27.0</td>\n",
       "    </tr>\n",
       "    <tr>\n",
       "      <th>11</th>\n",
       "      <td>12</td>\n",
       "      <td>Male</td>\n",
       "      <td>22.0</td>\n",
       "      <td>22.0</td>\n",
       "      <td>Right</td>\n",
       "      <td>L on R</td>\n",
       "      <td>87.0</td>\n",
       "      <td>Right</td>\n",
       "      <td>Some</td>\n",
       "      <td>Regul</td>\n",
       "      <td>174.0</td>\n",
       "      <td>Imperial</td>\n",
       "      <td>28.0</td>\n",
       "    </tr>\n",
       "    <tr>\n",
       "      <th>12</th>\n",
       "      <td>13</td>\n",
       "      <td>male</td>\n",
       "      <td>21.8</td>\n",
       "      <td>22.7</td>\n",
       "      <td>Right</td>\n",
       "      <td>R on L</td>\n",
       "      <td>77.0</td>\n",
       "      <td>Right</td>\n",
       "      <td>None</td>\n",
       "      <td>Never</td>\n",
       "      <td>183.0</td>\n",
       "      <td>Metric</td>\n",
       "      <td>22.0</td>\n",
       "    </tr>\n",
       "    <tr>\n",
       "      <th>13</th>\n",
       "      <td>14</td>\n",
       "      <td>female</td>\n",
       "      <td>19.7</td>\n",
       "      <td>19.2</td>\n",
       "      <td>Right</td>\n",
       "      <td>R on L</td>\n",
       "      <td>79.0</td>\n",
       "      <td>Neither</td>\n",
       "      <td>Some</td>\n",
       "      <td>Never</td>\n",
       "      <td>168.0</td>\n",
       "      <td>Metric</td>\n",
       "      <td>23.0</td>\n",
       "    </tr>\n",
       "    <tr>\n",
       "      <th>14</th>\n",
       "      <td>15</td>\n",
       "      <td>Female</td>\n",
       "      <td>17.1</td>\n",
       "      <td>17.9</td>\n",
       "      <td>Right</td>\n",
       "      <td>Right</td>\n",
       "      <td>72.0</td>\n",
       "      <td>Neither</td>\n",
       "      <td>Some</td>\n",
       "      <td>Never</td>\n",
       "      <td>170.3</td>\n",
       "      <td>Metric</td>\n",
       "      <td>24.0</td>\n",
       "    </tr>\n",
       "    <tr>\n",
       "      <th>15</th>\n",
       "      <td>16</td>\n",
       "      <td>Male</td>\n",
       "      <td>21.6</td>\n",
       "      <td>20.6</td>\n",
       "      <td>Right</td>\n",
       "      <td>Left</td>\n",
       "      <td>75.0</td>\n",
       "      <td>Left</td>\n",
       "      <td>Some</td>\n",
       "      <td>Occas</td>\n",
       "      <td>176.0</td>\n",
       "      <td>Metric</td>\n",
       "      <td>23.0</td>\n",
       "    </tr>\n",
       "    <tr>\n",
       "      <th>16</th>\n",
       "      <td>17</td>\n",
       "      <td>Male</td>\n",
       "      <td>18.6</td>\n",
       "      <td>18.3</td>\n",
       "      <td>Right</td>\n",
       "      <td>Left</td>\n",
       "      <td>78.0</td>\n",
       "      <td>Right</td>\n",
       "      <td>Some</td>\n",
       "      <td>Never</td>\n",
       "      <td>184.0</td>\n",
       "      <td>Metric</td>\n",
       "      <td>23.0</td>\n",
       "    </tr>\n",
       "    <tr>\n",
       "      <th>17</th>\n",
       "      <td>18</td>\n",
       "      <td>Male</td>\n",
       "      <td>23.5</td>\n",
       "      <td>24.0</td>\n",
       "      <td>Right</td>\n",
       "      <td>L on R</td>\n",
       "      <td>86.0</td>\n",
       "      <td>Right</td>\n",
       "      <td>Freq</td>\n",
       "      <td>Never</td>\n",
       "      <td>189.0</td>\n",
       "      <td>Metric</td>\n",
       "      <td>28.0</td>\n",
       "    </tr>\n",
       "    <tr>\n",
       "      <th>18</th>\n",
       "      <td>19</td>\n",
       "      <td>Male</td>\n",
       "      <td>22.5</td>\n",
       "      <td>22.5</td>\n",
       "      <td>Right</td>\n",
       "      <td>Neither</td>\n",
       "      <td>59.0</td>\n",
       "      <td>Left</td>\n",
       "      <td>Freq</td>\n",
       "      <td>Never</td>\n",
       "      <td>182.0</td>\n",
       "      <td>Metric</td>\n",
       "      <td>25.0</td>\n",
       "    </tr>\n",
       "    <tr>\n",
       "      <th>19</th>\n",
       "      <td>20</td>\n",
       "      <td>Male</td>\n",
       "      <td>21.5</td>\n",
       "      <td>21.5</td>\n",
       "      <td>Right</td>\n",
       "      <td>R on L</td>\n",
       "      <td>83.0</td>\n",
       "      <td>Right</td>\n",
       "      <td>Freq</td>\n",
       "      <td>Occas</td>\n",
       "      <td>181.0</td>\n",
       "      <td>Metric</td>\n",
       "      <td>30.0</td>\n",
       "    </tr>\n",
       "    <tr>\n",
       "      <th>20</th>\n",
       "      <td>21</td>\n",
       "      <td>NaN</td>\n",
       "      <td>NaN</td>\n",
       "      <td>NaN</td>\n",
       "      <td>NaN</td>\n",
       "      <td>NaN</td>\n",
       "      <td>NaN</td>\n",
       "      <td>NaN</td>\n",
       "      <td>NaN</td>\n",
       "      <td>NaN</td>\n",
       "      <td>NaN</td>\n",
       "      <td>NaN</td>\n",
       "      <td>NaN</td>\n",
       "    </tr>\n",
       "  </tbody>\n",
       "</table>\n",
       "</div>"
      ],
      "text/plain": [
       "     #     Sex  Wr.Hnd  NW.Hnd    Wr.H     Fold  Pulse      Clap   Exer  \\\n",
       "0    1  Female    19.5    20.0     NaN   L on R   79.0     Right   Some   \n",
       "1    2  Female    20.2    20.7     NaN   R on L   80.0     Right   Freq   \n",
       "2    3  Female    21.0    21.1     NaN   L on R   82.0     Right   Some   \n",
       "3    4    Male    20.5    18.4   Right    Right   79.0     Right   Some   \n",
       "4    5    Male    21.4    18.5   Right    Right   89.0     Right   None   \n",
       "5    6    Male    20.5    21.1   Right    Right   79.0   Neither   Some   \n",
       "6    7    Male    22.5    21.5   Right   L on R   64.0   Neither   Freq   \n",
       "7    8  Female    19.5    20.5   Right   L on R   75.0   Neither   Some   \n",
       "8    9    Male    21.0    22.0   Right   L on R   66.0     Right   Some   \n",
       "9   10    Male    22.5    22.7   Right   R on L   73.0   Neither   Freq   \n",
       "10  11  Female    18.6    18.4   Right   R on L   88.0      Left   Freq   \n",
       "11  12    Male    22.0    22.0   Right   L on R   87.0     Right   Some   \n",
       "12  13    male    21.8    22.7   Right   R on L   77.0     Right   None   \n",
       "13  14  female    19.7    19.2   Right   R on L   79.0   Neither   Some   \n",
       "14  15  Female    17.1    17.9   Right    Right   72.0   Neither   Some   \n",
       "15  16    Male    21.6    20.6   Right     Left   75.0      Left   Some   \n",
       "16  17    Male    18.6    18.3   Right     Left   78.0     Right   Some   \n",
       "17  18    Male    23.5    24.0   Right   L on R   86.0     Right   Freq   \n",
       "18  19    Male    22.5    22.5   Right  Neither   59.0      Left   Freq   \n",
       "19  20    Male    21.5    21.5   Right   R on L   83.0     Right   Freq   \n",
       "20  21     NaN     NaN     NaN     NaN      NaN    NaN       NaN    NaN   \n",
       "\n",
       "     Smoke  Height       M/I   Age  \n",
       "0    Never   170.0    Metric  24.0  \n",
       "1    Never   168.0    Metric  26.0  \n",
       "2    Occas   158.0    Metric  27.0  \n",
       "3    Never   173.0    Metric  28.0  \n",
       "4    Never   170.0    Metric  25.0  \n",
       "5    Never   178.0    Metric  28.0  \n",
       "6    Regul   189.0    Metric  22.0  \n",
       "7    Never   163.0    Metric  23.0  \n",
       "8    Never   174.0    Metric  28.0  \n",
       "9    Never   181.0    Metric  28.0  \n",
       "10   Occas   174.0    Metric  27.0  \n",
       "11   Regul   174.0  Imperial  28.0  \n",
       "12   Never   183.0    Metric  22.0  \n",
       "13   Never   168.0    Metric  23.0  \n",
       "14   Never   170.3    Metric  24.0  \n",
       "15   Occas   176.0    Metric  23.0  \n",
       "16   Never   184.0    Metric  23.0  \n",
       "17   Never   189.0    Metric  28.0  \n",
       "18   Never   182.0    Metric  25.0  \n",
       "19   Occas   181.0    Metric  30.0  \n",
       "20     NaN     NaN       NaN   NaN  "
      ]
     },
     "execution_count": 69,
     "metadata": {},
     "output_type": "execute_result"
    }
   ],
   "source": [
    "import pandas as pd\n",
    "data = pd.read_csv('student_survey_2018.csv')\n",
    "data"
   ]
  },
  {
   "cell_type": "code",
   "execution_count": 70,
   "metadata": {},
   "outputs": [
    {
     "data": {
      "text/html": [
       "<div>\n",
       "<style scoped>\n",
       "    .dataframe tbody tr th:only-of-type {\n",
       "        vertical-align: middle;\n",
       "    }\n",
       "\n",
       "    .dataframe tbody tr th {\n",
       "        vertical-align: top;\n",
       "    }\n",
       "\n",
       "    .dataframe thead th {\n",
       "        text-align: right;\n",
       "    }\n",
       "</style>\n",
       "<table border=\"1\" class=\"dataframe\">\n",
       "  <thead>\n",
       "    <tr style=\"text-align: right;\">\n",
       "      <th></th>\n",
       "      <th>Sex</th>\n",
       "      <th>Wr.Hnd</th>\n",
       "      <th>NW.Hnd</th>\n",
       "      <th>Wr.H</th>\n",
       "      <th>Fold</th>\n",
       "      <th>Pulse</th>\n",
       "      <th>Clap</th>\n",
       "      <th>Exer</th>\n",
       "      <th>Smoke</th>\n",
       "      <th>Height</th>\n",
       "      <th>Age</th>\n",
       "    </tr>\n",
       "  </thead>\n",
       "  <tbody>\n",
       "    <tr>\n",
       "      <th>0</th>\n",
       "      <td>Female</td>\n",
       "      <td>19.5</td>\n",
       "      <td>20.0</td>\n",
       "      <td>NaN</td>\n",
       "      <td>L on R</td>\n",
       "      <td>79.0</td>\n",
       "      <td>Right</td>\n",
       "      <td>Some</td>\n",
       "      <td>Never</td>\n",
       "      <td>170.0</td>\n",
       "      <td>24.0</td>\n",
       "    </tr>\n",
       "    <tr>\n",
       "      <th>1</th>\n",
       "      <td>Female</td>\n",
       "      <td>20.2</td>\n",
       "      <td>20.7</td>\n",
       "      <td>NaN</td>\n",
       "      <td>R on L</td>\n",
       "      <td>80.0</td>\n",
       "      <td>Right</td>\n",
       "      <td>Freq</td>\n",
       "      <td>Never</td>\n",
       "      <td>168.0</td>\n",
       "      <td>26.0</td>\n",
       "    </tr>\n",
       "    <tr>\n",
       "      <th>2</th>\n",
       "      <td>Female</td>\n",
       "      <td>21.0</td>\n",
       "      <td>21.1</td>\n",
       "      <td>NaN</td>\n",
       "      <td>L on R</td>\n",
       "      <td>82.0</td>\n",
       "      <td>Right</td>\n",
       "      <td>Some</td>\n",
       "      <td>Occas</td>\n",
       "      <td>158.0</td>\n",
       "      <td>27.0</td>\n",
       "    </tr>\n",
       "    <tr>\n",
       "      <th>3</th>\n",
       "      <td>Male</td>\n",
       "      <td>20.5</td>\n",
       "      <td>18.4</td>\n",
       "      <td>Right</td>\n",
       "      <td>Right</td>\n",
       "      <td>79.0</td>\n",
       "      <td>Right</td>\n",
       "      <td>Some</td>\n",
       "      <td>Never</td>\n",
       "      <td>173.0</td>\n",
       "      <td>28.0</td>\n",
       "    </tr>\n",
       "    <tr>\n",
       "      <th>4</th>\n",
       "      <td>Male</td>\n",
       "      <td>21.4</td>\n",
       "      <td>18.5</td>\n",
       "      <td>Right</td>\n",
       "      <td>Right</td>\n",
       "      <td>89.0</td>\n",
       "      <td>Right</td>\n",
       "      <td>None</td>\n",
       "      <td>Never</td>\n",
       "      <td>170.0</td>\n",
       "      <td>25.0</td>\n",
       "    </tr>\n",
       "    <tr>\n",
       "      <th>5</th>\n",
       "      <td>Male</td>\n",
       "      <td>20.5</td>\n",
       "      <td>21.1</td>\n",
       "      <td>Right</td>\n",
       "      <td>Right</td>\n",
       "      <td>79.0</td>\n",
       "      <td>Neither</td>\n",
       "      <td>Some</td>\n",
       "      <td>Never</td>\n",
       "      <td>178.0</td>\n",
       "      <td>28.0</td>\n",
       "    </tr>\n",
       "    <tr>\n",
       "      <th>6</th>\n",
       "      <td>Male</td>\n",
       "      <td>22.5</td>\n",
       "      <td>21.5</td>\n",
       "      <td>Right</td>\n",
       "      <td>L on R</td>\n",
       "      <td>64.0</td>\n",
       "      <td>Neither</td>\n",
       "      <td>Freq</td>\n",
       "      <td>Regul</td>\n",
       "      <td>189.0</td>\n",
       "      <td>22.0</td>\n",
       "    </tr>\n",
       "    <tr>\n",
       "      <th>7</th>\n",
       "      <td>Female</td>\n",
       "      <td>19.5</td>\n",
       "      <td>20.5</td>\n",
       "      <td>Right</td>\n",
       "      <td>L on R</td>\n",
       "      <td>75.0</td>\n",
       "      <td>Neither</td>\n",
       "      <td>Some</td>\n",
       "      <td>Never</td>\n",
       "      <td>163.0</td>\n",
       "      <td>23.0</td>\n",
       "    </tr>\n",
       "    <tr>\n",
       "      <th>8</th>\n",
       "      <td>Male</td>\n",
       "      <td>21.0</td>\n",
       "      <td>22.0</td>\n",
       "      <td>Right</td>\n",
       "      <td>L on R</td>\n",
       "      <td>66.0</td>\n",
       "      <td>Right</td>\n",
       "      <td>Some</td>\n",
       "      <td>Never</td>\n",
       "      <td>174.0</td>\n",
       "      <td>28.0</td>\n",
       "    </tr>\n",
       "    <tr>\n",
       "      <th>9</th>\n",
       "      <td>Male</td>\n",
       "      <td>22.5</td>\n",
       "      <td>22.7</td>\n",
       "      <td>Right</td>\n",
       "      <td>R on L</td>\n",
       "      <td>73.0</td>\n",
       "      <td>Neither</td>\n",
       "      <td>Freq</td>\n",
       "      <td>Never</td>\n",
       "      <td>181.0</td>\n",
       "      <td>28.0</td>\n",
       "    </tr>\n",
       "    <tr>\n",
       "      <th>10</th>\n",
       "      <td>Female</td>\n",
       "      <td>18.6</td>\n",
       "      <td>18.4</td>\n",
       "      <td>Right</td>\n",
       "      <td>R on L</td>\n",
       "      <td>88.0</td>\n",
       "      <td>Left</td>\n",
       "      <td>Freq</td>\n",
       "      <td>Occas</td>\n",
       "      <td>174.0</td>\n",
       "      <td>27.0</td>\n",
       "    </tr>\n",
       "    <tr>\n",
       "      <th>11</th>\n",
       "      <td>Male</td>\n",
       "      <td>22.0</td>\n",
       "      <td>22.0</td>\n",
       "      <td>Right</td>\n",
       "      <td>L on R</td>\n",
       "      <td>87.0</td>\n",
       "      <td>Right</td>\n",
       "      <td>Some</td>\n",
       "      <td>Regul</td>\n",
       "      <td>174.0</td>\n",
       "      <td>28.0</td>\n",
       "    </tr>\n",
       "    <tr>\n",
       "      <th>12</th>\n",
       "      <td>male</td>\n",
       "      <td>21.8</td>\n",
       "      <td>22.7</td>\n",
       "      <td>Right</td>\n",
       "      <td>R on L</td>\n",
       "      <td>77.0</td>\n",
       "      <td>Right</td>\n",
       "      <td>None</td>\n",
       "      <td>Never</td>\n",
       "      <td>183.0</td>\n",
       "      <td>22.0</td>\n",
       "    </tr>\n",
       "    <tr>\n",
       "      <th>13</th>\n",
       "      <td>female</td>\n",
       "      <td>19.7</td>\n",
       "      <td>19.2</td>\n",
       "      <td>Right</td>\n",
       "      <td>R on L</td>\n",
       "      <td>79.0</td>\n",
       "      <td>Neither</td>\n",
       "      <td>Some</td>\n",
       "      <td>Never</td>\n",
       "      <td>168.0</td>\n",
       "      <td>23.0</td>\n",
       "    </tr>\n",
       "    <tr>\n",
       "      <th>14</th>\n",
       "      <td>Female</td>\n",
       "      <td>17.1</td>\n",
       "      <td>17.9</td>\n",
       "      <td>Right</td>\n",
       "      <td>Right</td>\n",
       "      <td>72.0</td>\n",
       "      <td>Neither</td>\n",
       "      <td>Some</td>\n",
       "      <td>Never</td>\n",
       "      <td>170.3</td>\n",
       "      <td>24.0</td>\n",
       "    </tr>\n",
       "    <tr>\n",
       "      <th>15</th>\n",
       "      <td>Male</td>\n",
       "      <td>21.6</td>\n",
       "      <td>20.6</td>\n",
       "      <td>Right</td>\n",
       "      <td>Left</td>\n",
       "      <td>75.0</td>\n",
       "      <td>Left</td>\n",
       "      <td>Some</td>\n",
       "      <td>Occas</td>\n",
       "      <td>176.0</td>\n",
       "      <td>23.0</td>\n",
       "    </tr>\n",
       "    <tr>\n",
       "      <th>16</th>\n",
       "      <td>Male</td>\n",
       "      <td>18.6</td>\n",
       "      <td>18.3</td>\n",
       "      <td>Right</td>\n",
       "      <td>Left</td>\n",
       "      <td>78.0</td>\n",
       "      <td>Right</td>\n",
       "      <td>Some</td>\n",
       "      <td>Never</td>\n",
       "      <td>184.0</td>\n",
       "      <td>23.0</td>\n",
       "    </tr>\n",
       "    <tr>\n",
       "      <th>17</th>\n",
       "      <td>Male</td>\n",
       "      <td>23.5</td>\n",
       "      <td>24.0</td>\n",
       "      <td>Right</td>\n",
       "      <td>L on R</td>\n",
       "      <td>86.0</td>\n",
       "      <td>Right</td>\n",
       "      <td>Freq</td>\n",
       "      <td>Never</td>\n",
       "      <td>189.0</td>\n",
       "      <td>28.0</td>\n",
       "    </tr>\n",
       "    <tr>\n",
       "      <th>18</th>\n",
       "      <td>Male</td>\n",
       "      <td>22.5</td>\n",
       "      <td>22.5</td>\n",
       "      <td>Right</td>\n",
       "      <td>Neither</td>\n",
       "      <td>59.0</td>\n",
       "      <td>Left</td>\n",
       "      <td>Freq</td>\n",
       "      <td>Never</td>\n",
       "      <td>182.0</td>\n",
       "      <td>25.0</td>\n",
       "    </tr>\n",
       "    <tr>\n",
       "      <th>19</th>\n",
       "      <td>Male</td>\n",
       "      <td>21.5</td>\n",
       "      <td>21.5</td>\n",
       "      <td>Right</td>\n",
       "      <td>R on L</td>\n",
       "      <td>83.0</td>\n",
       "      <td>Right</td>\n",
       "      <td>Freq</td>\n",
       "      <td>Occas</td>\n",
       "      <td>181.0</td>\n",
       "      <td>30.0</td>\n",
       "    </tr>\n",
       "  </tbody>\n",
       "</table>\n",
       "</div>"
      ],
      "text/plain": [
       "       Sex  Wr.Hnd  NW.Hnd    Wr.H     Fold  Pulse      Clap   Exer   Smoke  \\\n",
       "0   Female    19.5    20.0     NaN   L on R   79.0     Right   Some   Never   \n",
       "1   Female    20.2    20.7     NaN   R on L   80.0     Right   Freq   Never   \n",
       "2   Female    21.0    21.1     NaN   L on R   82.0     Right   Some   Occas   \n",
       "3     Male    20.5    18.4   Right    Right   79.0     Right   Some   Never   \n",
       "4     Male    21.4    18.5   Right    Right   89.0     Right   None   Never   \n",
       "5     Male    20.5    21.1   Right    Right   79.0   Neither   Some   Never   \n",
       "6     Male    22.5    21.5   Right   L on R   64.0   Neither   Freq   Regul   \n",
       "7   Female    19.5    20.5   Right   L on R   75.0   Neither   Some   Never   \n",
       "8     Male    21.0    22.0   Right   L on R   66.0     Right   Some   Never   \n",
       "9     Male    22.5    22.7   Right   R on L   73.0   Neither   Freq   Never   \n",
       "10  Female    18.6    18.4   Right   R on L   88.0      Left   Freq   Occas   \n",
       "11    Male    22.0    22.0   Right   L on R   87.0     Right   Some   Regul   \n",
       "12    male    21.8    22.7   Right   R on L   77.0     Right   None   Never   \n",
       "13  female    19.7    19.2   Right   R on L   79.0   Neither   Some   Never   \n",
       "14  Female    17.1    17.9   Right    Right   72.0   Neither   Some   Never   \n",
       "15    Male    21.6    20.6   Right     Left   75.0      Left   Some   Occas   \n",
       "16    Male    18.6    18.3   Right     Left   78.0     Right   Some   Never   \n",
       "17    Male    23.5    24.0   Right   L on R   86.0     Right   Freq   Never   \n",
       "18    Male    22.5    22.5   Right  Neither   59.0      Left   Freq   Never   \n",
       "19    Male    21.5    21.5   Right   R on L   83.0     Right   Freq   Occas   \n",
       "\n",
       "    Height   Age  \n",
       "0    170.0  24.0  \n",
       "1    168.0  26.0  \n",
       "2    158.0  27.0  \n",
       "3    173.0  28.0  \n",
       "4    170.0  25.0  \n",
       "5    178.0  28.0  \n",
       "6    189.0  22.0  \n",
       "7    163.0  23.0  \n",
       "8    174.0  28.0  \n",
       "9    181.0  28.0  \n",
       "10   174.0  27.0  \n",
       "11   174.0  28.0  \n",
       "12   183.0  22.0  \n",
       "13   168.0  23.0  \n",
       "14   170.3  24.0  \n",
       "15   176.0  23.0  \n",
       "16   184.0  23.0  \n",
       "17   189.0  28.0  \n",
       "18   182.0  25.0  \n",
       "19   181.0  30.0  "
      ]
     },
     "execution_count": 70,
     "metadata": {},
     "output_type": "execute_result"
    }
   ],
   "source": [
    "data = data.drop(20).drop([\"#\",\"M/I\"],axis =1)\n",
    "data"
   ]
  },
  {
   "cell_type": "code",
   "execution_count": 71,
   "metadata": {},
   "outputs": [
    {
     "data": {
      "text/html": [
       "<div>\n",
       "<style scoped>\n",
       "    .dataframe tbody tr th:only-of-type {\n",
       "        vertical-align: middle;\n",
       "    }\n",
       "\n",
       "    .dataframe tbody tr th {\n",
       "        vertical-align: top;\n",
       "    }\n",
       "\n",
       "    .dataframe thead th {\n",
       "        text-align: right;\n",
       "    }\n",
       "</style>\n",
       "<table border=\"1\" class=\"dataframe\">\n",
       "  <thead>\n",
       "    <tr style=\"text-align: right;\">\n",
       "      <th></th>\n",
       "      <th>Sex</th>\n",
       "      <th>Wr.Hnd</th>\n",
       "      <th>NW.Hnd</th>\n",
       "      <th>Wr.H</th>\n",
       "      <th>Fold</th>\n",
       "      <th>Pulse</th>\n",
       "      <th>Clap</th>\n",
       "      <th>Exer</th>\n",
       "      <th>Smoke</th>\n",
       "      <th>Height</th>\n",
       "      <th>Age</th>\n",
       "    </tr>\n",
       "  </thead>\n",
       "  <tbody>\n",
       "    <tr>\n",
       "      <th>0</th>\n",
       "      <td>F</td>\n",
       "      <td>19.5</td>\n",
       "      <td>20.0</td>\n",
       "      <td>NaN</td>\n",
       "      <td>L on R</td>\n",
       "      <td>79.0</td>\n",
       "      <td>Right</td>\n",
       "      <td>Some</td>\n",
       "      <td>Never</td>\n",
       "      <td>170.0</td>\n",
       "      <td>24.0</td>\n",
       "    </tr>\n",
       "    <tr>\n",
       "      <th>1</th>\n",
       "      <td>F</td>\n",
       "      <td>20.2</td>\n",
       "      <td>20.7</td>\n",
       "      <td>NaN</td>\n",
       "      <td>R on L</td>\n",
       "      <td>80.0</td>\n",
       "      <td>Right</td>\n",
       "      <td>Freq</td>\n",
       "      <td>Never</td>\n",
       "      <td>168.0</td>\n",
       "      <td>26.0</td>\n",
       "    </tr>\n",
       "    <tr>\n",
       "      <th>2</th>\n",
       "      <td>F</td>\n",
       "      <td>21.0</td>\n",
       "      <td>21.1</td>\n",
       "      <td>NaN</td>\n",
       "      <td>L on R</td>\n",
       "      <td>82.0</td>\n",
       "      <td>Right</td>\n",
       "      <td>Some</td>\n",
       "      <td>Occas</td>\n",
       "      <td>158.0</td>\n",
       "      <td>27.0</td>\n",
       "    </tr>\n",
       "    <tr>\n",
       "      <th>3</th>\n",
       "      <td>M</td>\n",
       "      <td>20.5</td>\n",
       "      <td>18.4</td>\n",
       "      <td>Right</td>\n",
       "      <td>R on L</td>\n",
       "      <td>79.0</td>\n",
       "      <td>Right</td>\n",
       "      <td>Some</td>\n",
       "      <td>Never</td>\n",
       "      <td>173.0</td>\n",
       "      <td>28.0</td>\n",
       "    </tr>\n",
       "    <tr>\n",
       "      <th>4</th>\n",
       "      <td>M</td>\n",
       "      <td>21.4</td>\n",
       "      <td>18.5</td>\n",
       "      <td>Right</td>\n",
       "      <td>R on L</td>\n",
       "      <td>89.0</td>\n",
       "      <td>Right</td>\n",
       "      <td>None</td>\n",
       "      <td>Never</td>\n",
       "      <td>170.0</td>\n",
       "      <td>25.0</td>\n",
       "    </tr>\n",
       "    <tr>\n",
       "      <th>5</th>\n",
       "      <td>M</td>\n",
       "      <td>20.5</td>\n",
       "      <td>21.1</td>\n",
       "      <td>Right</td>\n",
       "      <td>R on L</td>\n",
       "      <td>79.0</td>\n",
       "      <td>Neither</td>\n",
       "      <td>Some</td>\n",
       "      <td>Never</td>\n",
       "      <td>178.0</td>\n",
       "      <td>28.0</td>\n",
       "    </tr>\n",
       "    <tr>\n",
       "      <th>6</th>\n",
       "      <td>M</td>\n",
       "      <td>22.5</td>\n",
       "      <td>21.5</td>\n",
       "      <td>Right</td>\n",
       "      <td>L on R</td>\n",
       "      <td>64.0</td>\n",
       "      <td>Neither</td>\n",
       "      <td>Freq</td>\n",
       "      <td>Regul</td>\n",
       "      <td>189.0</td>\n",
       "      <td>22.0</td>\n",
       "    </tr>\n",
       "    <tr>\n",
       "      <th>7</th>\n",
       "      <td>F</td>\n",
       "      <td>19.5</td>\n",
       "      <td>20.5</td>\n",
       "      <td>Right</td>\n",
       "      <td>L on R</td>\n",
       "      <td>75.0</td>\n",
       "      <td>Neither</td>\n",
       "      <td>Some</td>\n",
       "      <td>Never</td>\n",
       "      <td>163.0</td>\n",
       "      <td>23.0</td>\n",
       "    </tr>\n",
       "    <tr>\n",
       "      <th>8</th>\n",
       "      <td>M</td>\n",
       "      <td>21.0</td>\n",
       "      <td>22.0</td>\n",
       "      <td>Right</td>\n",
       "      <td>L on R</td>\n",
       "      <td>66.0</td>\n",
       "      <td>Right</td>\n",
       "      <td>Some</td>\n",
       "      <td>Never</td>\n",
       "      <td>174.0</td>\n",
       "      <td>28.0</td>\n",
       "    </tr>\n",
       "    <tr>\n",
       "      <th>9</th>\n",
       "      <td>M</td>\n",
       "      <td>22.5</td>\n",
       "      <td>22.7</td>\n",
       "      <td>Right</td>\n",
       "      <td>R on L</td>\n",
       "      <td>73.0</td>\n",
       "      <td>Neither</td>\n",
       "      <td>Freq</td>\n",
       "      <td>Never</td>\n",
       "      <td>181.0</td>\n",
       "      <td>28.0</td>\n",
       "    </tr>\n",
       "    <tr>\n",
       "      <th>10</th>\n",
       "      <td>F</td>\n",
       "      <td>18.6</td>\n",
       "      <td>18.4</td>\n",
       "      <td>Right</td>\n",
       "      <td>R on L</td>\n",
       "      <td>88.0</td>\n",
       "      <td>Left</td>\n",
       "      <td>Freq</td>\n",
       "      <td>Occas</td>\n",
       "      <td>174.0</td>\n",
       "      <td>27.0</td>\n",
       "    </tr>\n",
       "    <tr>\n",
       "      <th>11</th>\n",
       "      <td>M</td>\n",
       "      <td>22.0</td>\n",
       "      <td>22.0</td>\n",
       "      <td>Right</td>\n",
       "      <td>L on R</td>\n",
       "      <td>87.0</td>\n",
       "      <td>Right</td>\n",
       "      <td>Some</td>\n",
       "      <td>Regul</td>\n",
       "      <td>174.0</td>\n",
       "      <td>28.0</td>\n",
       "    </tr>\n",
       "    <tr>\n",
       "      <th>12</th>\n",
       "      <td>M</td>\n",
       "      <td>21.8</td>\n",
       "      <td>22.7</td>\n",
       "      <td>Right</td>\n",
       "      <td>R on L</td>\n",
       "      <td>77.0</td>\n",
       "      <td>Right</td>\n",
       "      <td>None</td>\n",
       "      <td>Never</td>\n",
       "      <td>183.0</td>\n",
       "      <td>22.0</td>\n",
       "    </tr>\n",
       "    <tr>\n",
       "      <th>13</th>\n",
       "      <td>F</td>\n",
       "      <td>19.7</td>\n",
       "      <td>19.2</td>\n",
       "      <td>Right</td>\n",
       "      <td>R on L</td>\n",
       "      <td>79.0</td>\n",
       "      <td>Neither</td>\n",
       "      <td>Some</td>\n",
       "      <td>Never</td>\n",
       "      <td>168.0</td>\n",
       "      <td>23.0</td>\n",
       "    </tr>\n",
       "    <tr>\n",
       "      <th>14</th>\n",
       "      <td>F</td>\n",
       "      <td>17.1</td>\n",
       "      <td>17.9</td>\n",
       "      <td>Right</td>\n",
       "      <td>R on L</td>\n",
       "      <td>72.0</td>\n",
       "      <td>Neither</td>\n",
       "      <td>Some</td>\n",
       "      <td>Never</td>\n",
       "      <td>170.3</td>\n",
       "      <td>24.0</td>\n",
       "    </tr>\n",
       "    <tr>\n",
       "      <th>15</th>\n",
       "      <td>M</td>\n",
       "      <td>21.6</td>\n",
       "      <td>20.6</td>\n",
       "      <td>Right</td>\n",
       "      <td>L on R</td>\n",
       "      <td>75.0</td>\n",
       "      <td>Left</td>\n",
       "      <td>Some</td>\n",
       "      <td>Occas</td>\n",
       "      <td>176.0</td>\n",
       "      <td>23.0</td>\n",
       "    </tr>\n",
       "    <tr>\n",
       "      <th>16</th>\n",
       "      <td>M</td>\n",
       "      <td>18.6</td>\n",
       "      <td>18.3</td>\n",
       "      <td>Right</td>\n",
       "      <td>L on R</td>\n",
       "      <td>78.0</td>\n",
       "      <td>Right</td>\n",
       "      <td>Some</td>\n",
       "      <td>Never</td>\n",
       "      <td>184.0</td>\n",
       "      <td>23.0</td>\n",
       "    </tr>\n",
       "    <tr>\n",
       "      <th>17</th>\n",
       "      <td>M</td>\n",
       "      <td>23.5</td>\n",
       "      <td>24.0</td>\n",
       "      <td>Right</td>\n",
       "      <td>L on R</td>\n",
       "      <td>86.0</td>\n",
       "      <td>Right</td>\n",
       "      <td>Freq</td>\n",
       "      <td>Never</td>\n",
       "      <td>189.0</td>\n",
       "      <td>28.0</td>\n",
       "    </tr>\n",
       "    <tr>\n",
       "      <th>18</th>\n",
       "      <td>M</td>\n",
       "      <td>22.5</td>\n",
       "      <td>22.5</td>\n",
       "      <td>Right</td>\n",
       "      <td>Neither</td>\n",
       "      <td>59.0</td>\n",
       "      <td>Left</td>\n",
       "      <td>Freq</td>\n",
       "      <td>Never</td>\n",
       "      <td>182.0</td>\n",
       "      <td>25.0</td>\n",
       "    </tr>\n",
       "    <tr>\n",
       "      <th>19</th>\n",
       "      <td>M</td>\n",
       "      <td>21.5</td>\n",
       "      <td>21.5</td>\n",
       "      <td>Right</td>\n",
       "      <td>R on L</td>\n",
       "      <td>83.0</td>\n",
       "      <td>Right</td>\n",
       "      <td>Freq</td>\n",
       "      <td>Occas</td>\n",
       "      <td>181.0</td>\n",
       "      <td>30.0</td>\n",
       "    </tr>\n",
       "  </tbody>\n",
       "</table>\n",
       "</div>"
      ],
      "text/plain": [
       "   Sex  Wr.Hnd  NW.Hnd    Wr.H     Fold  Pulse      Clap   Exer   Smoke  \\\n",
       "0    F    19.5    20.0     NaN   L on R   79.0     Right   Some   Never   \n",
       "1    F    20.2    20.7     NaN   R on L   80.0     Right   Freq   Never   \n",
       "2    F    21.0    21.1     NaN   L on R   82.0     Right   Some   Occas   \n",
       "3    M    20.5    18.4   Right   R on L   79.0     Right   Some   Never   \n",
       "4    M    21.4    18.5   Right   R on L   89.0     Right   None   Never   \n",
       "5    M    20.5    21.1   Right   R on L   79.0   Neither   Some   Never   \n",
       "6    M    22.5    21.5   Right   L on R   64.0   Neither   Freq   Regul   \n",
       "7    F    19.5    20.5   Right   L on R   75.0   Neither   Some   Never   \n",
       "8    M    21.0    22.0   Right   L on R   66.0     Right   Some   Never   \n",
       "9    M    22.5    22.7   Right   R on L   73.0   Neither   Freq   Never   \n",
       "10   F    18.6    18.4   Right   R on L   88.0      Left   Freq   Occas   \n",
       "11   M    22.0    22.0   Right   L on R   87.0     Right   Some   Regul   \n",
       "12   M    21.8    22.7   Right   R on L   77.0     Right   None   Never   \n",
       "13   F    19.7    19.2   Right   R on L   79.0   Neither   Some   Never   \n",
       "14   F    17.1    17.9   Right   R on L   72.0   Neither   Some   Never   \n",
       "15   M    21.6    20.6   Right   L on R   75.0      Left   Some   Occas   \n",
       "16   M    18.6    18.3   Right   L on R   78.0     Right   Some   Never   \n",
       "17   M    23.5    24.0   Right   L on R   86.0     Right   Freq   Never   \n",
       "18   M    22.5    22.5   Right  Neither   59.0      Left   Freq   Never   \n",
       "19   M    21.5    21.5   Right   R on L   83.0     Right   Freq   Occas   \n",
       "\n",
       "    Height   Age  \n",
       "0    170.0  24.0  \n",
       "1    168.0  26.0  \n",
       "2    158.0  27.0  \n",
       "3    173.0  28.0  \n",
       "4    170.0  25.0  \n",
       "5    178.0  28.0  \n",
       "6    189.0  22.0  \n",
       "7    163.0  23.0  \n",
       "8    174.0  28.0  \n",
       "9    181.0  28.0  \n",
       "10   174.0  27.0  \n",
       "11   174.0  28.0  \n",
       "12   183.0  22.0  \n",
       "13   168.0  23.0  \n",
       "14   170.3  24.0  \n",
       "15   176.0  23.0  \n",
       "16   184.0  23.0  \n",
       "17   189.0  28.0  \n",
       "18   182.0  25.0  \n",
       "19   181.0  30.0  "
      ]
     },
     "execution_count": 71,
     "metadata": {},
     "output_type": "execute_result"
    }
   ],
   "source": [
    "data[\"Sex\"] = data[\"Sex\"].replace({'Female':'F','female':'F','Male':'M','male':'M'})\n",
    "data[\"Fold\"] = data[\"Fold\"].replace({'Right':'R on L','Left':'L on R'})\n",
    "data"
   ]
  },
  {
   "cell_type": "code",
   "execution_count": 72,
   "metadata": {},
   "outputs": [
    {
     "data": {
      "text/plain": [
       "Wr.Hnd     20.775\n",
       "NW.Hnd     20.680\n",
       "Pulse      77.500\n",
       "Height    175.265\n",
       "Age        25.600\n",
       "dtype: float64"
      ]
     },
     "execution_count": 72,
     "metadata": {},
     "output_type": "execute_result"
    }
   ],
   "source": [
    "data.mean(axis=0)\n"
   ]
  },
  {
   "cell_type": "code",
   "execution_count": 73,
   "metadata": {},
   "outputs": [],
   "source": [
    "import matplotlib.pyplot as mp"
   ]
  },
  {
   "cell_type": "code",
   "execution_count": 74,
   "metadata": {},
   "outputs": [
    {
     "data": {
      "text/plain": [
       "Sex            F\n",
       "Wr.Hnd      20.2\n",
       "NW.Hnd      20.7\n",
       "Wr.H         NaN\n",
       "Fold      R on L\n",
       "Pulse         80\n",
       "Clap       Right\n",
       "Exer        Freq\n",
       "Smoke      Never\n",
       "Height       168\n",
       "Age           26\n",
       "Name: 1, dtype: object"
      ]
     },
     "execution_count": 74,
     "metadata": {},
     "output_type": "execute_result"
    }
   ],
   "source": [
    "data.loc[1]"
   ]
  },
  {
   "cell_type": "code",
   "execution_count": 75,
   "metadata": {},
   "outputs": [
    {
     "data": {
      "text/plain": [
       "{'whiskers': [<matplotlib.lines.Line2D at 0x7fed35835da0>,\n",
       "  <matplotlib.lines.Line2D at 0x7fed357c1128>],\n",
       " 'caps': [<matplotlib.lines.Line2D at 0x7fed357c1470>,\n",
       "  <matplotlib.lines.Line2D at 0x7fed357c17b8>],\n",
       " 'boxes': [<matplotlib.lines.Line2D at 0x7fed35835c50>],\n",
       " 'medians': [<matplotlib.lines.Line2D at 0x7fed357c1b00>],\n",
       " 'fliers': [<matplotlib.lines.Line2D at 0x7fed357c1e48>],\n",
       " 'means': []}"
      ]
     },
     "execution_count": 75,
     "metadata": {},
     "output_type": "execute_result"
    },
    {
     "data": {
      "image/png": "[encoded data removed]",
      "text/plain": [
       "<Figure size 432x288 with 1 Axes>"
      ]
     },
     "metadata": {
      "needs_background": "light"
     },
     "output_type": "display_data"
    }
   ],
   "source": [
    "mp.boxplot(data['Wr.Hnd'])\n"
   ]
  },
  {
   "cell_type": "code",
   "execution_count": 76,
   "metadata": {},
   "outputs": [
    {
     "data": {
      "text/plain": [
       "{'whiskers': [<matplotlib.lines.Line2D at 0x7fed35790d68>,\n",
       "  <matplotlib.lines.Line2D at 0x7fed357970f0>],\n",
       " 'caps': [<matplotlib.lines.Line2D at 0x7fed35797438>,\n",
       "  <matplotlib.lines.Line2D at 0x7fed35797780>],\n",
       " 'boxes': [<matplotlib.lines.Line2D at 0x7fed35790c18>],\n",
       " 'medians': [<matplotlib.lines.Line2D at 0x7fed35797ac8>],\n",
       " 'fliers': [<matplotlib.lines.Line2D at 0x7fed35797e10>],\n",
       " 'means': []}"
      ]
     },
     "execution_count": 76,
     "metadata": {},
     "output_type": "execute_result"
    },
    {
     "data": {
      "image/png": "[encoded data removed]",
      "text/plain": [
       "<Figure size 432x288 with 1 Axes>"
      ]
     },
     "metadata": {
      "needs_background": "light"
     },
     "output_type": "display_data"
    }
   ],
   "source": [
    "mp.boxplot(data['Pulse'])"
   ]
  },
  {
   "cell_type": "code",
   "execution_count": 77,
   "metadata": {},
   "outputs": [
    {
     "data": {
      "text/plain": [
       "{'whiskers': [<matplotlib.lines.Line2D at 0x7fed3576ecf8>,\n",
       "  <matplotlib.lines.Line2D at 0x7fed35776080>],\n",
       " 'caps': [<matplotlib.lines.Line2D at 0x7fed357763c8>,\n",
       "  <matplotlib.lines.Line2D at 0x7fed35776710>],\n",
       " 'boxes': [<matplotlib.lines.Line2D at 0x7fed3576eba8>],\n",
       " 'medians': [<matplotlib.lines.Line2D at 0x7fed35776a58>],\n",
       " 'fliers': [<matplotlib.lines.Line2D at 0x7fed35776da0>],\n",
       " 'means': []}"
      ]
     },
     "execution_count": 77,
     "metadata": {},
     "output_type": "execute_result"
    },
    {
     "data": {
      "image/png": "[encoded data removed]",
      "text/plain": [
       "<Figure size 432x288 with 1 Axes>"
      ]
     },
     "metadata": {
      "needs_background": "light"
     },
     "output_type": "display_data"
    }
   ],
   "source": [
    "mp.boxplot(data['Height'])"
   ]
  },
  {
   "cell_type": "code",
   "execution_count": 78,
   "metadata": {},
   "outputs": [
    {
     "data": {
      "text/plain": [
       "<matplotlib.axes._subplots.AxesSubplot at 0x7fed3571beb8>"
      ]
     },
     "execution_count": 78,
     "metadata": {},
     "output_type": "execute_result"
    },
    {
     "data": {
      "image/png": "[encoded data removed]",
      "text/plain": [
       "<Figure size 432x288 with 1 Axes>"
      ]
     },
     "metadata": {
      "needs_background": "light"
     },
     "output_type": "display_data"
    }
   ],
   "source": [
    "data['Age'].hist()"
   ]
  },
  {
   "cell_type": "code",
   "execution_count": 79,
   "metadata": {},
   "outputs": [
    {
     "data": {
      "text/plain": [
       "Sex       13\n",
       "Wr.Hnd    13\n",
       "NW.Hnd    13\n",
       "Wr.H      13\n",
       "Fold      13\n",
       "Pulse     13\n",
       "Clap      13\n",
       "Exer      13\n",
       "Smoke     13\n",
       "Height    13\n",
       "Age       13\n",
       "dtype: int64"
      ]
     },
     "execution_count": 79,
     "metadata": {},
     "output_type": "execute_result"
    }
   ],
   "source": [
    "males = data[data['Sex'] == 'M']\n",
    "males.count()"
   ]
  },
  {
   "cell_type": "code",
   "execution_count": 80,
   "metadata": {},
   "outputs": [
    {
     "data": {
      "text/plain": [
       "Sex       7\n",
       "Wr.Hnd    7\n",
       "NW.Hnd    7\n",
       "Wr.H      4\n",
       "Fold      7\n",
       "Pulse     7\n",
       "Clap      7\n",
       "Exer      7\n",
       "Smoke     7\n",
       "Height    7\n",
       "Age       7\n",
       "dtype: int64"
      ]
     },
     "execution_count": 80,
     "metadata": {},
     "output_type": "execute_result"
    }
   ],
   "source": [
    "females = data[data['Sex'] == 'F']\n",
    "females.count()"
   ]
  },
  {
   "cell_type": "markdown",
   "metadata": {},
   "source": [
    "# Histogram for Males and Females Pulse Rate"
   ]
  },
  {
   "cell_type": "code",
   "execution_count": 81,
   "metadata": {},
   "outputs": [
    {
     "data": {
      "text/plain": [
       "(array([1., 1., 1., 0., 1., 1., 4., 0., 1., 3.]),\n",
       " array([59., 62., 65., 68., 71., 74., 77., 80., 83., 86., 89.]),\n",
       " <a list of 10 Patch objects>)"
      ]
     },
     "execution_count": 81,
     "metadata": {},
     "output_type": "execute_result"
    },
    {
     "data": {
      "image/png": "[encoded data removed]",
      "text/plain": [
       "<Figure size 432x288 with 2 Axes>"
      ]
     },
     "metadata": {
      "needs_background": "light"
     },
     "output_type": "display_data"
    }
   ],
   "source": [
    "f, pulse = mp.subplots(2, sharex=True)\n",
    "pulse[0].set_title('Female`s Pulse rate')\n",
    "pulse[0].hist(females['Pulse'])\n",
    "pulse[1].set_title('Male`s Pulse rate')\n",
    "pulse[1].hist(males['Pulse'])\n"
   ]
  },
  {
   "cell_type": "markdown",
   "metadata": {},
   "source": [
    "# Writing Hand comparison of males and females"
   ]
  },
  {
   "cell_type": "code",
   "execution_count": 82,
   "metadata": {
    "scrolled": true
   },
   "outputs": [
    {
     "data": {
      "text/plain": [
       "(array([1., 0., 0., 2., 1., 2., 3., 3., 0., 1.]),\n",
       " array([18.6 , 19.09, 19.58, 20.07, 20.56, 21.05, 21.54, 22.03, 22.52,\n",
       "        23.01, 23.5 ]),\n",
       " <a list of 10 Patch objects>)"
      ]
     },
     "execution_count": 82,
     "metadata": {},
     "output_type": "execute_result"
    },
    {
     "data": {
      "image/png": "[encoded data removed]",
      "text/plain": [
       "<Figure size 432x288 with 2 Axes>"
      ]
     },
     "metadata": {
      "needs_background": "light"
     },
     "output_type": "display_data"
    }
   ],
   "source": [
    "f, wh = mp.subplots(2,sharex = True)\n",
    "wh[0].set_title('Female Wr.Hand')\n",
    "wh[0].hist(females['Wr.Hnd'])\n",
    "wh[1].set_title('Male Wr.Hand')\n",
    "wh[1].hist(males['Wr.Hnd'])"
   ]
  },
  {
   "cell_type": "markdown",
   "metadata": {},
   "source": [
    "# Height comparison"
   ]
  },
  {
   "cell_type": "code",
   "execution_count": 83,
   "metadata": {},
   "outputs": [
    {
     "data": {
      "text/plain": [
       "(array([1., 1., 2., 1., 1., 2., 2., 1., 0., 2.]),\n",
       " array([170. , 171.9, 173.8, 175.7, 177.6, 179.5, 181.4, 183.3, 185.2,\n",
       "        187.1, 189. ]),\n",
       " <a list of 10 Patch objects>)"
      ]
     },
     "execution_count": 83,
     "metadata": {},
     "output_type": "execute_result"
    },
    {
     "data": {
      "image/png": "[encoded data removed]",
      "text/plain": [
       "<Figure size 432x288 with 2 Axes>"
      ]
     },
     "metadata": {
      "needs_background": "light"
     },
     "output_type": "display_data"
    }
   ],
   "source": [
    "f, height = mp.subplots(2,sharex = True)\n",
    "height[0].set_title('Female Wr.Hand')\n",
    "height[0].hist(females['Height'])\n",
    "height[1].set_title('Male Wr.Hand')\n",
    "height[1].hist(males['Height'])"
   ]
  },
  {
   "cell_type": "code",
   "execution_count": 84,
   "metadata": {},
   "outputs": [
    {
     "data": {
      "text/plain": [
       "[<matplotlib.lines.Line2D at 0x7fed363bd828>]"
      ]
     },
     "execution_count": 84,
     "metadata": {},
     "output_type": "execute_result"
    },
    {
     "data": {
      "image/png": "[encoded data removed]",
      "text/plain": [
       "<Figure size 432x288 with 1 Axes>"
      ]
     },
     "metadata": {
      "needs_background": "light"
     },
     "output_type": "display_data"
    }
   ],
   "source": [
    "x_data = list(range(7)) #number of females\n",
    "sort_female_age = females.sort_values('Age')\n",
    "sort_female_age#\n",
    "mp.plot(x_data,sort_female_age['Age'],label='Age')\n",
    "mp.plot(x_data,females['Pulse'],label='Pulse')"
   ]
  },
  {
   "cell_type": "code",
   "execution_count": 85,
   "metadata": {},
   "outputs": [
    {
     "data": {
      "image/png": "[encoded data removed]",
      "text/plain": [
       "<Figure size 432x288 with 2 Axes>"
      ]
     },
     "metadata": {
      "needs_background": "light"
     },
     "output_type": "display_data"
    }
   ],
   "source": [
    "fig, axs1 = mp.subplots()\n",
    "axs2 = axs1.twinx()\n",
    "axs1.plot(x_data,sort_female_age['Age'], 'g-')\n",
    "axs2.plot(x_data,females['Pulse'], 'b-')\n",
    "\n",
    "axs1.set_xlabel('X ')\n",
    "axs1.set_ylabel('Age', color='g')\n",
    "axs2.set_ylabel('Pulse', color='b')\n",
    "\n",
    "mp.show()"
   ]
  },
  {
   "cell_type": "code",
   "execution_count": 114,
   "metadata": {},
   "outputs": [],
   "source": [
    "male_data = list(range(13)) #number of females\n",
    "sort_male_age = males.sort_values('Age')\n"
   ]
  },
  {
   "cell_type": "code",
   "execution_count": 87,
   "metadata": {},
   "outputs": [
    {
     "data": {
      "text/plain": [
       "Text(0, 0.5, 'Pulse')"
      ]
     },
     "execution_count": 87,
     "metadata": {},
     "output_type": "execute_result"
    },
    {
     "data": {
      "image/png": "[encoded data removed]",
      "text/plain": [
       "<Figure size 432x288 with 2 Axes>"
      ]
     },
     "metadata": {
      "needs_background": "light"
     },
     "output_type": "display_data"
    }
   ],
   "source": [
    "fig, axs1 = mp.subplots()\n",
    "axs2 = axs1.twinx()\n",
    "axs1.plot(male_data,sort_male_age['Age'], 'r-')\n",
    "axs2.plot(male_data,males['Pulse'], 'b-')\n",
    "\n",
    "axs1.set_xlabel('X ')\n",
    "axs1.set_ylabel('Age', color='r')\n",
    "axs2.set_ylabel('Pulse', color='b')\n"
   ]
  },
  {
   "cell_type": "markdown",
   "metadata": {},
   "source": [
    "# Correlation between Age and Pulse"
   ]
  },
  {
   "cell_type": "code",
   "execution_count": 88,
   "metadata": {},
   "outputs": [
    {
     "data": {
      "text/plain": [
       "0.34050729358009435"
      ]
     },
     "execution_count": 88,
     "metadata": {},
     "output_type": "execute_result"
    }
   ],
   "source": [
    "data['Age'].corr(data['Pulse'])"
   ]
  },
  {
   "cell_type": "code",
   "execution_count": 89,
   "metadata": {},
   "outputs": [
    {
     "data": {
      "text/plain": [
       "0.7441280832478201"
      ]
     },
     "execution_count": 89,
     "metadata": {},
     "output_type": "execute_result"
    }
   ],
   "source": [
    "females['Age'].corr(females['Pulse'])"
   ]
  },
  {
   "cell_type": "code",
   "execution_count": 90,
   "metadata": {},
   "outputs": [
    {
     "data": {
      "text/plain": [
       "0.3327824128610349"
      ]
     },
     "execution_count": 90,
     "metadata": {},
     "output_type": "execute_result"
    }
   ],
   "source": [
    "males['Age'].corr(males['Pulse'])"
   ]
  },
  {
   "cell_type": "markdown",
   "metadata": {},
   "source": [
    "# Reading our group's data"
   ]
  },
  {
   "cell_type": "code",
   "execution_count": 92,
   "metadata": {},
   "outputs": [
    {
     "data": {
      "text/html": [
       "<div>\n",
       "<style scoped>\n",
       "    .dataframe tbody tr th:only-of-type {\n",
       "        vertical-align: middle;\n",
       "    }\n",
       "\n",
       "    .dataframe tbody tr th {\n",
       "        vertical-align: top;\n",
       "    }\n",
       "\n",
       "    .dataframe thead th {\n",
       "        text-align: right;\n",
       "    }\n",
       "</style>\n",
       "<table border=\"1\" class=\"dataframe\">\n",
       "  <thead>\n",
       "    <tr style=\"text-align: right;\">\n",
       "      <th></th>\n",
       "      <th>Sex</th>\n",
       "      <th>Wr Hand</th>\n",
       "      <th>NW Hand</th>\n",
       "      <th>W hand</th>\n",
       "      <th>Fold</th>\n",
       "      <th>Pulse</th>\n",
       "      <th>Clap</th>\n",
       "      <th>Exer</th>\n",
       "      <th>Smoke</th>\n",
       "      <th>Height</th>\n",
       "      <th>M.I</th>\n",
       "      <th>Age</th>\n",
       "    </tr>\n",
       "  </thead>\n",
       "  <tbody>\n",
       "    <tr>\n",
       "      <th>0</th>\n",
       "      <td>Female</td>\n",
       "      <td>17.1</td>\n",
       "      <td>17.9</td>\n",
       "      <td>Right</td>\n",
       "      <td>Right</td>\n",
       "      <td>72</td>\n",
       "      <td>Neither</td>\n",
       "      <td>Some</td>\n",
       "      <td>Never</td>\n",
       "      <td>170.3</td>\n",
       "      <td>Metric</td>\n",
       "      <td>24</td>\n",
       "    </tr>\n",
       "    <tr>\n",
       "      <th>1</th>\n",
       "      <td>Male</td>\n",
       "      <td>21.6</td>\n",
       "      <td>20.6</td>\n",
       "      <td>Right</td>\n",
       "      <td>Left</td>\n",
       "      <td>75</td>\n",
       "      <td>Left</td>\n",
       "      <td>Some</td>\n",
       "      <td>Occas</td>\n",
       "      <td>184.0</td>\n",
       "      <td>Metric</td>\n",
       "      <td>23</td>\n",
       "    </tr>\n",
       "    <tr>\n",
       "      <th>2</th>\n",
       "      <td>Male</td>\n",
       "      <td>18.6</td>\n",
       "      <td>18.3</td>\n",
       "      <td>Right</td>\n",
       "      <td>Left</td>\n",
       "      <td>78</td>\n",
       "      <td>Right</td>\n",
       "      <td>Some</td>\n",
       "      <td>Never</td>\n",
       "      <td>176.0</td>\n",
       "      <td>Metric</td>\n",
       "      <td>23</td>\n",
       "    </tr>\n",
       "  </tbody>\n",
       "</table>\n",
       "</div>"
      ],
      "text/plain": [
       "      Sex  Wr Hand  NW Hand  W hand   Fold  Pulse     Clap  Exer  Smoke  \\\n",
       "0  Female     17.1      17.9  Right  Right     72  Neither  Some  Never   \n",
       "1    Male     21.6      20.6  Right   Left     75     Left  Some  Occas   \n",
       "2    Male     18.6      18.3  Right   Left     78    Right  Some  Never   \n",
       "\n",
       "   Height     M.I  Age  \n",
       "0   170.3  Metric   24  \n",
       "1   184.0  Metric   23  \n",
       "2   176.0  Metric   23  "
      ]
     },
     "execution_count": 92,
     "metadata": {},
     "output_type": "execute_result"
    }
   ],
   "source": [
    "our_data = pd.read_csv('task2_measurements.csv')\n",
    "our_data"
   ]
  },
  {
   "cell_type": "code",
   "execution_count": 95,
   "metadata": {},
   "outputs": [
    {
     "data": {
      "text/html": [
       "<div>\n",
       "<style scoped>\n",
       "    .dataframe tbody tr th:only-of-type {\n",
       "        vertical-align: middle;\n",
       "    }\n",
       "\n",
       "    .dataframe tbody tr th {\n",
       "        vertical-align: top;\n",
       "    }\n",
       "\n",
       "    .dataframe thead th {\n",
       "        text-align: right;\n",
       "    }\n",
       "</style>\n",
       "<table border=\"1\" class=\"dataframe\">\n",
       "  <thead>\n",
       "    <tr style=\"text-align: right;\">\n",
       "      <th></th>\n",
       "      <th>Sex</th>\n",
       "      <th>Wr Hand</th>\n",
       "      <th>NW Hand</th>\n",
       "      <th>W hand</th>\n",
       "      <th>Fold</th>\n",
       "      <th>Pulse</th>\n",
       "      <th>Clap</th>\n",
       "      <th>Exer</th>\n",
       "      <th>Smoke</th>\n",
       "      <th>Height</th>\n",
       "      <th>Age</th>\n",
       "    </tr>\n",
       "  </thead>\n",
       "  <tbody>\n",
       "    <tr>\n",
       "      <th>0</th>\n",
       "      <td>Female</td>\n",
       "      <td>17.1</td>\n",
       "      <td>17.9</td>\n",
       "      <td>Right</td>\n",
       "      <td>Right</td>\n",
       "      <td>72</td>\n",
       "      <td>Neither</td>\n",
       "      <td>Some</td>\n",
       "      <td>Never</td>\n",
       "      <td>170.3</td>\n",
       "      <td>24</td>\n",
       "    </tr>\n",
       "    <tr>\n",
       "      <th>1</th>\n",
       "      <td>Male</td>\n",
       "      <td>21.6</td>\n",
       "      <td>20.6</td>\n",
       "      <td>Right</td>\n",
       "      <td>Left</td>\n",
       "      <td>75</td>\n",
       "      <td>Left</td>\n",
       "      <td>Some</td>\n",
       "      <td>Occas</td>\n",
       "      <td>184.0</td>\n",
       "      <td>23</td>\n",
       "    </tr>\n",
       "    <tr>\n",
       "      <th>2</th>\n",
       "      <td>Male</td>\n",
       "      <td>18.6</td>\n",
       "      <td>18.3</td>\n",
       "      <td>Right</td>\n",
       "      <td>Left</td>\n",
       "      <td>78</td>\n",
       "      <td>Right</td>\n",
       "      <td>Some</td>\n",
       "      <td>Never</td>\n",
       "      <td>176.0</td>\n",
       "      <td>23</td>\n",
       "    </tr>\n",
       "  </tbody>\n",
       "</table>\n",
       "</div>"
      ],
      "text/plain": [
       "      Sex  Wr Hand  NW Hand  W hand   Fold  Pulse     Clap  Exer  Smoke  \\\n",
       "0  Female     17.1      17.9  Right  Right     72  Neither  Some  Never   \n",
       "1    Male     21.6      20.6  Right   Left     75     Left  Some  Occas   \n",
       "2    Male     18.6      18.3  Right   Left     78    Right  Some  Never   \n",
       "\n",
       "   Height  Age  \n",
       "0   170.3   24  \n",
       "1   184.0   23  \n",
       "2   176.0   23  "
      ]
     },
     "execution_count": 95,
     "metadata": {},
     "output_type": "execute_result"
    }
   ],
   "source": [
    "our_data = our_data.drop([\"M.I\"],axis =1)\n",
    "our_data"
   ]
  },
  {
   "cell_type": "code",
   "execution_count": 96,
   "metadata": {},
   "outputs": [
    {
     "data": {
      "text/html": [
       "<div>\n",
       "<style scoped>\n",
       "    .dataframe tbody tr th:only-of-type {\n",
       "        vertical-align: middle;\n",
       "    }\n",
       "\n",
       "    .dataframe tbody tr th {\n",
       "        vertical-align: top;\n",
       "    }\n",
       "\n",
       "    .dataframe thead th {\n",
       "        text-align: right;\n",
       "    }\n",
       "</style>\n",
       "<table border=\"1\" class=\"dataframe\">\n",
       "  <thead>\n",
       "    <tr style=\"text-align: right;\">\n",
       "      <th></th>\n",
       "      <th>Sex</th>\n",
       "      <th>Wr Hand</th>\n",
       "      <th>NW Hand</th>\n",
       "      <th>W hand</th>\n",
       "      <th>Fold</th>\n",
       "      <th>Pulse</th>\n",
       "      <th>Clap</th>\n",
       "      <th>Exer</th>\n",
       "      <th>Smoke</th>\n",
       "      <th>Height</th>\n",
       "      <th>Age</th>\n",
       "    </tr>\n",
       "  </thead>\n",
       "  <tbody>\n",
       "    <tr>\n",
       "      <th>0</th>\n",
       "      <td>F</td>\n",
       "      <td>17.1</td>\n",
       "      <td>17.9</td>\n",
       "      <td>Right</td>\n",
       "      <td>R on L</td>\n",
       "      <td>72</td>\n",
       "      <td>Neither</td>\n",
       "      <td>Some</td>\n",
       "      <td>Never</td>\n",
       "      <td>170.3</td>\n",
       "      <td>24</td>\n",
       "    </tr>\n",
       "    <tr>\n",
       "      <th>1</th>\n",
       "      <td>M</td>\n",
       "      <td>21.6</td>\n",
       "      <td>20.6</td>\n",
       "      <td>Right</td>\n",
       "      <td>L on R</td>\n",
       "      <td>75</td>\n",
       "      <td>Left</td>\n",
       "      <td>Some</td>\n",
       "      <td>Occas</td>\n",
       "      <td>184.0</td>\n",
       "      <td>23</td>\n",
       "    </tr>\n",
       "    <tr>\n",
       "      <th>2</th>\n",
       "      <td>M</td>\n",
       "      <td>18.6</td>\n",
       "      <td>18.3</td>\n",
       "      <td>Right</td>\n",
       "      <td>L on R</td>\n",
       "      <td>78</td>\n",
       "      <td>Right</td>\n",
       "      <td>Some</td>\n",
       "      <td>Never</td>\n",
       "      <td>176.0</td>\n",
       "      <td>23</td>\n",
       "    </tr>\n",
       "  </tbody>\n",
       "</table>\n",
       "</div>"
      ],
      "text/plain": [
       "  Sex  Wr Hand  NW Hand  W hand    Fold  Pulse     Clap  Exer  Smoke  Height  \\\n",
       "0   F     17.1      17.9  Right  R on L     72  Neither  Some  Never   170.3   \n",
       "1   M     21.6      20.6  Right  L on R     75     Left  Some  Occas   184.0   \n",
       "2   M     18.6      18.3  Right  L on R     78    Right  Some  Never   176.0   \n",
       "\n",
       "   Age  \n",
       "0   24  \n",
       "1   23  \n",
       "2   23  "
      ]
     },
     "execution_count": 96,
     "metadata": {},
     "output_type": "execute_result"
    }
   ],
   "source": [
    "our_data[\"Sex\"] = our_data[\"Sex\"].replace({'Female':'F','female':'F','Male':'M','male':'M'})\n",
    "our_data[\"Fold\"] = our_data[\"Fold\"].replace({'Right':'R on L','Left':'L on R'})\n",
    "our_data"
   ]
  },
  {
   "cell_type": "markdown",
   "metadata": {},
   "source": [
    "# Correlation between Our Pulse data and group's Pulse data"
   ]
  },
  {
   "cell_type": "code",
   "execution_count": 97,
   "metadata": {},
   "outputs": [
    {
     "data": {
      "text/plain": [
       "0.9819805060619656"
      ]
     },
     "execution_count": 97,
     "metadata": {},
     "output_type": "execute_result"
    }
   ],
   "source": [
    "our_data['Pulse'].corr(data['Pulse'])"
   ]
  },
  {
   "cell_type": "markdown",
   "metadata": {},
   "source": [
    "# Mean of Our Wr. Hand data and group's Wr. Hand data"
   ]
  },
  {
   "cell_type": "code",
   "execution_count": 101,
   "metadata": {},
   "outputs": [
    {
     "data": {
      "text/plain": [
       "19.1"
      ]
     },
     "execution_count": 101,
     "metadata": {},
     "output_type": "execute_result"
    }
   ],
   "source": [
    "our_data['Wr Hand'].mean()"
   ]
  },
  {
   "cell_type": "code",
   "execution_count": 102,
   "metadata": {},
   "outputs": [
    {
     "data": {
      "text/plain": [
       "20.775000000000002"
      ]
     },
     "execution_count": 102,
     "metadata": {},
     "output_type": "execute_result"
    }
   ],
   "source": [
    "data['Wr.Hnd'].mean()"
   ]
  },
  {
   "cell_type": "code",
   "execution_count": 103,
   "metadata": {},
   "outputs": [
    {
     "data": {
      "text/plain": [
       "0.29074190231478964"
      ]
     },
     "execution_count": 103,
     "metadata": {},
     "output_type": "execute_result"
    }
   ],
   "source": [
    "our_data['Wr Hand'].corr(data['Wr.Hnd'])"
   ]
  },
  {
   "cell_type": "code",
   "execution_count": 112,
   "metadata": {},
   "outputs": [
    {
     "name": "stdout",
     "output_type": "stream",
     "text": [
      "Wr.Hnd     2.550395\n",
      "NW.Hnd     3.100632\n",
      "Pulse     62.684211\n",
      "Height    67.193974\n",
      "Age        6.147368\n",
      "dtype: float64\n",
      "\t\t\n",
      "Wr Hand      5.250000\n",
      "NW Hand      2.123333\n",
      "Pulse        9.000000\n",
      "Height      47.363333\n",
      "Age          0.333333\n",
      "dtype: float64\n"
     ]
    }
   ],
   "source": [
    "print(data.var())\n",
    "print(\"\\t\\t\")\n",
    "print(our_data.var())"
   ]
  },
  {
   "cell_type": "code",
   "execution_count": 113,
   "metadata": {},
   "outputs": [
    {
     "name": "stdout",
     "output_type": "stream",
     "text": [
      "Wr.Hnd    1.596996\n",
      "NW.Hnd    1.760861\n",
      "Pulse     7.917336\n",
      "Height    8.197193\n",
      "Age       2.479389\n",
      "dtype: float64\n",
      "\t\t\n",
      "Wr Hand     2.291288\n",
      "NW Hand     1.457166\n",
      "Pulse       3.000000\n",
      "Height      6.882102\n",
      "Age         0.577350\n",
      "dtype: float64\n"
     ]
    }
   ],
   "source": [
    "print(data.std())\n",
    "print(\"\\t\\t\")\n",
    "print(our_data.std())"
   ]
  },
  {
   "cell_type": "code",
   "execution_count": 116,
   "metadata": {},
   "outputs": [
    {
     "ename": "TypeError",
     "evalue": "unhashable type: 'numpy.ndarray'",
     "output_type": "error",
     "traceback": [
      "\u001b[0;31m---------------------------------------------------------------------------\u001b[0m",
      "\u001b[0;31mTypeError\u001b[0m                                 Traceback (most recent call last)",
      "\u001b[0;32m<ipython-input-116-4da10a7c8464>\u001b[0m in \u001b[0;36m<module>\u001b[0;34m\u001b[0m\n\u001b[1;32m      3\u001b[0m \u001b[0maxs2\u001b[0m \u001b[0;34m=\u001b[0m \u001b[0maxs1\u001b[0m\u001b[0;34m.\u001b[0m\u001b[0mtwinx\u001b[0m\u001b[0;34m(\u001b[0m\u001b[0;34m)\u001b[0m\u001b[0;34m\u001b[0m\u001b[0m\n\u001b[1;32m      4\u001b[0m \u001b[0maxs1\u001b[0m\u001b[0;34m.\u001b[0m\u001b[0mplot\u001b[0m\u001b[0;34m(\u001b[0m\u001b[0mnew_data\u001b[0m\u001b[0;34m,\u001b[0m\u001b[0mour_data\u001b[0m\u001b[0;34m[\u001b[0m\u001b[0;34m'Age'\u001b[0m\u001b[0;34m]\u001b[0m\u001b[0;34m,\u001b[0m \u001b[0;34m'r-'\u001b[0m\u001b[0;34m)\u001b[0m\u001b[0;34m\u001b[0m\u001b[0m\n\u001b[0;32m----> 5\u001b[0;31m \u001b[0maxs2\u001b[0m\u001b[0;34m.\u001b[0m\u001b[0mplot\u001b[0m\u001b[0;34m(\u001b[0m\u001b[0mdata\u001b[0m\u001b[0;34m,\u001b[0m\u001b[0mdata\u001b[0m\u001b[0;34m[\u001b[0m\u001b[0;34m'Age'\u001b[0m\u001b[0;34m]\u001b[0m\u001b[0;34m,\u001b[0m \u001b[0;34m'b-'\u001b[0m\u001b[0;34m)\u001b[0m\u001b[0;34m\u001b[0m\u001b[0m\n\u001b[0m\u001b[1;32m      6\u001b[0m \u001b[0;34m\u001b[0m\u001b[0m\n\u001b[1;32m      7\u001b[0m \u001b[0maxs1\u001b[0m\u001b[0;34m.\u001b[0m\u001b[0mset_xlabel\u001b[0m\u001b[0;34m(\u001b[0m\u001b[0;34m'X '\u001b[0m\u001b[0;34m)\u001b[0m\u001b[0;34m\u001b[0m\u001b[0m\n",
      "\u001b[0;32m~/.local/lib/python3.6/site-packages/matplotlib/__init__.py\u001b[0m in \u001b[0;36minner\u001b[0;34m(ax, data, *args, **kwargs)\u001b[0m\n\u001b[1;32m   1783\u001b[0m                         \u001b[0;34m\"the Matplotlib list!)\"\u001b[0m \u001b[0;34m%\u001b[0m \u001b[0;34m(\u001b[0m\u001b[0mlabel_namer\u001b[0m\u001b[0;34m,\u001b[0m \u001b[0mfunc\u001b[0m\u001b[0;34m.\u001b[0m\u001b[0m__name__\u001b[0m\u001b[0;34m)\u001b[0m\u001b[0;34m,\u001b[0m\u001b[0;34m\u001b[0m\u001b[0m\n\u001b[1;32m   1784\u001b[0m                         RuntimeWarning, stacklevel=2)\n\u001b[0;32m-> 1785\u001b[0;31m             \u001b[0;32mreturn\u001b[0m \u001b[0mfunc\u001b[0m\u001b[0;34m(\u001b[0m\u001b[0max\u001b[0m\u001b[0;34m,\u001b[0m \u001b[0;34m*\u001b[0m\u001b[0margs\u001b[0m\u001b[0;34m,\u001b[0m \u001b[0;34m**\u001b[0m\u001b[0mkwargs\u001b[0m\u001b[0;34m)\u001b[0m\u001b[0;34m\u001b[0m\u001b[0m\n\u001b[0m\u001b[1;32m   1786\u001b[0m \u001b[0;34m\u001b[0m\u001b[0m\n\u001b[1;32m   1787\u001b[0m         inner.__doc__ = _add_data_doc(inner.__doc__,\n",
      "\u001b[0;32m~/.local/lib/python3.6/site-packages/matplotlib/axes/_axes.py\u001b[0m in \u001b[0;36mplot\u001b[0;34m(self, scalex, scaley, *args, **kwargs)\u001b[0m\n\u001b[1;32m   1602\u001b[0m         \u001b[0mkwargs\u001b[0m \u001b[0;34m=\u001b[0m \u001b[0mcbook\u001b[0m\u001b[0;34m.\u001b[0m\u001b[0mnormalize_kwargs\u001b[0m\u001b[0;34m(\u001b[0m\u001b[0mkwargs\u001b[0m\u001b[0;34m,\u001b[0m \u001b[0mmlines\u001b[0m\u001b[0;34m.\u001b[0m\u001b[0mLine2D\u001b[0m\u001b[0;34m.\u001b[0m\u001b[0m_alias_map\u001b[0m\u001b[0;34m)\u001b[0m\u001b[0;34m\u001b[0m\u001b[0m\n\u001b[1;32m   1603\u001b[0m \u001b[0;34m\u001b[0m\u001b[0m\n\u001b[0;32m-> 1604\u001b[0;31m         \u001b[0;32mfor\u001b[0m \u001b[0mline\u001b[0m \u001b[0;32min\u001b[0m \u001b[0mself\u001b[0m\u001b[0;34m.\u001b[0m\u001b[0m_get_lines\u001b[0m\u001b[0;34m(\u001b[0m\u001b[0;34m*\u001b[0m\u001b[0margs\u001b[0m\u001b[0;34m,\u001b[0m \u001b[0;34m**\u001b[0m\u001b[0mkwargs\u001b[0m\u001b[0;34m)\u001b[0m\u001b[0;34m:\u001b[0m\u001b[0;34m\u001b[0m\u001b[0m\n\u001b[0m\u001b[1;32m   1605\u001b[0m             \u001b[0mself\u001b[0m\u001b[0;34m.\u001b[0m\u001b[0madd_line\u001b[0m\u001b[0;34m(\u001b[0m\u001b[0mline\u001b[0m\u001b[0;34m)\u001b[0m\u001b[0;34m\u001b[0m\u001b[0m\n\u001b[1;32m   1606\u001b[0m             \u001b[0mlines\u001b[0m\u001b[0;34m.\u001b[0m\u001b[0mappend\u001b[0m\u001b[0;34m(\u001b[0m\u001b[0mline\u001b[0m\u001b[0;34m)\u001b[0m\u001b[0;34m\u001b[0m\u001b[0m\n",
      "\u001b[0;32m~/.local/lib/python3.6/site-packages/matplotlib/axes/_base.py\u001b[0m in \u001b[0;36m_grab_next_args\u001b[0;34m(self, *args, **kwargs)\u001b[0m\n\u001b[1;32m    391\u001b[0m                 \u001b[0mthis\u001b[0m \u001b[0;34m+=\u001b[0m \u001b[0margs\u001b[0m\u001b[0;34m[\u001b[0m\u001b[0;36m0\u001b[0m\u001b[0;34m]\u001b[0m\u001b[0;34m,\u001b[0m\u001b[0;34m\u001b[0m\u001b[0m\n\u001b[1;32m    392\u001b[0m                 \u001b[0margs\u001b[0m \u001b[0;34m=\u001b[0m \u001b[0margs\u001b[0m\u001b[0;34m[\u001b[0m\u001b[0;36m1\u001b[0m\u001b[0;34m:\u001b[0m\u001b[0;34m]\u001b[0m\u001b[0;34m\u001b[0m\u001b[0m\n\u001b[0;32m--> 393\u001b[0;31m             \u001b[0;32myield\u001b[0m \u001b[0;32mfrom\u001b[0m \u001b[0mself\u001b[0m\u001b[0;34m.\u001b[0m\u001b[0m_plot_args\u001b[0m\u001b[0;34m(\u001b[0m\u001b[0mthis\u001b[0m\u001b[0;34m,\u001b[0m \u001b[0mkwargs\u001b[0m\u001b[0;34m)\u001b[0m\u001b[0;34m\u001b[0m\u001b[0m\n\u001b[0m\u001b[1;32m    394\u001b[0m \u001b[0;34m\u001b[0m\u001b[0m\n\u001b[1;32m    395\u001b[0m \u001b[0;34m\u001b[0m\u001b[0m\n",
      "\u001b[0;32m~/.local/lib/python3.6/site-packages/matplotlib/axes/_base.py\u001b[0m in \u001b[0;36m_plot_args\u001b[0;34m(self, tup, kwargs)\u001b[0m\n\u001b[1;32m    368\u001b[0m             \u001b[0mx\u001b[0m\u001b[0;34m,\u001b[0m \u001b[0my\u001b[0m \u001b[0;34m=\u001b[0m \u001b[0mindex_of\u001b[0m\u001b[0;34m(\u001b[0m\u001b[0mtup\u001b[0m\u001b[0;34m[\u001b[0m\u001b[0;34m-\u001b[0m\u001b[0;36m1\u001b[0m\u001b[0;34m]\u001b[0m\u001b[0;34m)\u001b[0m\u001b[0;34m\u001b[0m\u001b[0m\n\u001b[1;32m    369\u001b[0m \u001b[0;34m\u001b[0m\u001b[0m\n\u001b[0;32m--> 370\u001b[0;31m         \u001b[0mx\u001b[0m\u001b[0;34m,\u001b[0m \u001b[0my\u001b[0m \u001b[0;34m=\u001b[0m \u001b[0mself\u001b[0m\u001b[0;34m.\u001b[0m\u001b[0m_xy_from_xy\u001b[0m\u001b[0;34m(\u001b[0m\u001b[0mx\u001b[0m\u001b[0;34m,\u001b[0m \u001b[0my\u001b[0m\u001b[0;34m)\u001b[0m\u001b[0;34m\u001b[0m\u001b[0m\n\u001b[0m\u001b[1;32m    371\u001b[0m \u001b[0;34m\u001b[0m\u001b[0m\n\u001b[1;32m    372\u001b[0m         \u001b[0;32mif\u001b[0m \u001b[0mself\u001b[0m\u001b[0;34m.\u001b[0m\u001b[0mcommand\u001b[0m \u001b[0;34m==\u001b[0m \u001b[0;34m'plot'\u001b[0m\u001b[0;34m:\u001b[0m\u001b[0;34m\u001b[0m\u001b[0m\n",
      "\u001b[0;32m~/.local/lib/python3.6/site-packages/matplotlib/axes/_base.py\u001b[0m in \u001b[0;36m_xy_from_xy\u001b[0;34m(self, x, y)\u001b[0m\n\u001b[1;32m    202\u001b[0m     \u001b[0;32mdef\u001b[0m \u001b[0m_xy_from_xy\u001b[0m\u001b[0;34m(\u001b[0m\u001b[0mself\u001b[0m\u001b[0;34m,\u001b[0m \u001b[0mx\u001b[0m\u001b[0;34m,\u001b[0m \u001b[0my\u001b[0m\u001b[0;34m)\u001b[0m\u001b[0;34m:\u001b[0m\u001b[0;34m\u001b[0m\u001b[0m\n\u001b[1;32m    203\u001b[0m         \u001b[0;32mif\u001b[0m \u001b[0mself\u001b[0m\u001b[0;34m.\u001b[0m\u001b[0maxes\u001b[0m\u001b[0;34m.\u001b[0m\u001b[0mxaxis\u001b[0m \u001b[0;32mis\u001b[0m \u001b[0;32mnot\u001b[0m \u001b[0;32mNone\u001b[0m \u001b[0;32mand\u001b[0m \u001b[0mself\u001b[0m\u001b[0;34m.\u001b[0m\u001b[0maxes\u001b[0m\u001b[0;34m.\u001b[0m\u001b[0myaxis\u001b[0m \u001b[0;32mis\u001b[0m \u001b[0;32mnot\u001b[0m \u001b[0;32mNone\u001b[0m\u001b[0;34m:\u001b[0m\u001b[0;34m\u001b[0m\u001b[0m\n\u001b[0;32m--> 204\u001b[0;31m             \u001b[0mbx\u001b[0m \u001b[0;34m=\u001b[0m \u001b[0mself\u001b[0m\u001b[0;34m.\u001b[0m\u001b[0maxes\u001b[0m\u001b[0;34m.\u001b[0m\u001b[0mxaxis\u001b[0m\u001b[0;34m.\u001b[0m\u001b[0mupdate_units\u001b[0m\u001b[0;34m(\u001b[0m\u001b[0mx\u001b[0m\u001b[0;34m)\u001b[0m\u001b[0;34m\u001b[0m\u001b[0m\n\u001b[0m\u001b[1;32m    205\u001b[0m             \u001b[0mby\u001b[0m \u001b[0;34m=\u001b[0m \u001b[0mself\u001b[0m\u001b[0;34m.\u001b[0m\u001b[0maxes\u001b[0m\u001b[0;34m.\u001b[0m\u001b[0myaxis\u001b[0m\u001b[0;34m.\u001b[0m\u001b[0mupdate_units\u001b[0m\u001b[0;34m(\u001b[0m\u001b[0my\u001b[0m\u001b[0;34m)\u001b[0m\u001b[0;34m\u001b[0m\u001b[0m\n\u001b[1;32m    206\u001b[0m \u001b[0;34m\u001b[0m\u001b[0m\n",
      "\u001b[0;32m~/.local/lib/python3.6/site-packages/matplotlib/axis.py\u001b[0m in \u001b[0;36mupdate_units\u001b[0;34m(self, data)\u001b[0m\n\u001b[1;32m   1471\u001b[0m         \u001b[0mneednew\u001b[0m \u001b[0;34m=\u001b[0m \u001b[0mself\u001b[0m\u001b[0;34m.\u001b[0m\u001b[0mconverter\u001b[0m \u001b[0;34m!=\u001b[0m \u001b[0mconverter\u001b[0m\u001b[0;34m\u001b[0m\u001b[0m\n\u001b[1;32m   1472\u001b[0m         \u001b[0mself\u001b[0m\u001b[0;34m.\u001b[0m\u001b[0mconverter\u001b[0m \u001b[0;34m=\u001b[0m \u001b[0mconverter\u001b[0m\u001b[0;34m\u001b[0m\u001b[0m\n\u001b[0;32m-> 1473\u001b[0;31m         \u001b[0mdefault\u001b[0m \u001b[0;34m=\u001b[0m \u001b[0mself\u001b[0m\u001b[0;34m.\u001b[0m\u001b[0mconverter\u001b[0m\u001b[0;34m.\u001b[0m\u001b[0mdefault_units\u001b[0m\u001b[0;34m(\u001b[0m\u001b[0mdata\u001b[0m\u001b[0;34m,\u001b[0m \u001b[0mself\u001b[0m\u001b[0;34m)\u001b[0m\u001b[0;34m\u001b[0m\u001b[0m\n\u001b[0m\u001b[1;32m   1474\u001b[0m         \u001b[0;32mif\u001b[0m \u001b[0mdefault\u001b[0m \u001b[0;32mis\u001b[0m \u001b[0;32mnot\u001b[0m \u001b[0;32mNone\u001b[0m \u001b[0;32mand\u001b[0m \u001b[0mself\u001b[0m\u001b[0;34m.\u001b[0m\u001b[0munits\u001b[0m \u001b[0;32mis\u001b[0m \u001b[0;32mNone\u001b[0m\u001b[0;34m:\u001b[0m\u001b[0;34m\u001b[0m\u001b[0m\n\u001b[1;32m   1475\u001b[0m             \u001b[0mself\u001b[0m\u001b[0;34m.\u001b[0m\u001b[0mset_units\u001b[0m\u001b[0;34m(\u001b[0m\u001b[0mdefault\u001b[0m\u001b[0;34m)\u001b[0m\u001b[0;34m\u001b[0m\u001b[0m\n",
      "\u001b[0;32m~/.local/lib/python3.6/site-packages/matplotlib/category.py\u001b[0m in \u001b[0;36mdefault_units\u001b[0;34m(data, axis)\u001b[0m\n\u001b[1;32m    101\u001b[0m         \u001b[0;31m# default_units->axis_info->convert\u001b[0m\u001b[0;34m\u001b[0m\u001b[0;34m\u001b[0m\u001b[0m\n\u001b[1;32m    102\u001b[0m         \u001b[0;32mif\u001b[0m \u001b[0maxis\u001b[0m\u001b[0;34m.\u001b[0m\u001b[0munits\u001b[0m \u001b[0;32mis\u001b[0m \u001b[0;32mNone\u001b[0m\u001b[0;34m:\u001b[0m\u001b[0;34m\u001b[0m\u001b[0m\n\u001b[0;32m--> 103\u001b[0;31m             \u001b[0maxis\u001b[0m\u001b[0;34m.\u001b[0m\u001b[0mset_units\u001b[0m\u001b[0;34m(\u001b[0m\u001b[0mUnitData\u001b[0m\u001b[0;34m(\u001b[0m\u001b[0mdata\u001b[0m\u001b[0;34m)\u001b[0m\u001b[0;34m)\u001b[0m\u001b[0;34m\u001b[0m\u001b[0m\n\u001b[0m\u001b[1;32m    104\u001b[0m         \u001b[0;32melse\u001b[0m\u001b[0;34m:\u001b[0m\u001b[0;34m\u001b[0m\u001b[0m\n\u001b[1;32m    105\u001b[0m             \u001b[0maxis\u001b[0m\u001b[0;34m.\u001b[0m\u001b[0munits\u001b[0m\u001b[0;34m.\u001b[0m\u001b[0mupdate\u001b[0m\u001b[0;34m(\u001b[0m\u001b[0mdata\u001b[0m\u001b[0;34m)\u001b[0m\u001b[0;34m\u001b[0m\u001b[0m\n",
      "\u001b[0;32m~/.local/lib/python3.6/site-packages/matplotlib/category.py\u001b[0m in \u001b[0;36m__init__\u001b[0;34m(self, data)\u001b[0m\n\u001b[1;32m    167\u001b[0m         \u001b[0mself\u001b[0m\u001b[0;34m.\u001b[0m\u001b[0m_counter\u001b[0m \u001b[0;34m=\u001b[0m \u001b[0mitertools\u001b[0m\u001b[0;34m.\u001b[0m\u001b[0mcount\u001b[0m\u001b[0;34m(\u001b[0m\u001b[0;34m)\u001b[0m\u001b[0;34m\u001b[0m\u001b[0m\n\u001b[1;32m    168\u001b[0m         \u001b[0;32mif\u001b[0m \u001b[0mdata\u001b[0m \u001b[0;32mis\u001b[0m \u001b[0;32mnot\u001b[0m \u001b[0;32mNone\u001b[0m\u001b[0;34m:\u001b[0m\u001b[0;34m\u001b[0m\u001b[0m\n\u001b[0;32m--> 169\u001b[0;31m             \u001b[0mself\u001b[0m\u001b[0;34m.\u001b[0m\u001b[0mupdate\u001b[0m\u001b[0;34m(\u001b[0m\u001b[0mdata\u001b[0m\u001b[0;34m)\u001b[0m\u001b[0;34m\u001b[0m\u001b[0m\n\u001b[0m\u001b[1;32m    170\u001b[0m \u001b[0;34m\u001b[0m\u001b[0m\n\u001b[1;32m    171\u001b[0m     \u001b[0;32mdef\u001b[0m \u001b[0mupdate\u001b[0m\u001b[0;34m(\u001b[0m\u001b[0mself\u001b[0m\u001b[0;34m,\u001b[0m \u001b[0mdata\u001b[0m\u001b[0;34m)\u001b[0m\u001b[0;34m:\u001b[0m\u001b[0;34m\u001b[0m\u001b[0m\n",
      "\u001b[0;32m~/.local/lib/python3.6/site-packages/matplotlib/category.py\u001b[0m in \u001b[0;36mupdate\u001b[0;34m(self, data)\u001b[0m\n\u001b[1;32m    184\u001b[0m         \u001b[0mdata\u001b[0m \u001b[0;34m=\u001b[0m \u001b[0mnp\u001b[0m\u001b[0;34m.\u001b[0m\u001b[0matleast_1d\u001b[0m\u001b[0;34m(\u001b[0m\u001b[0mnp\u001b[0m\u001b[0;34m.\u001b[0m\u001b[0marray\u001b[0m\u001b[0;34m(\u001b[0m\u001b[0mdata\u001b[0m\u001b[0;34m,\u001b[0m \u001b[0mdtype\u001b[0m\u001b[0;34m=\u001b[0m\u001b[0mobject\u001b[0m\u001b[0;34m)\u001b[0m\u001b[0;34m)\u001b[0m\u001b[0;34m\u001b[0m\u001b[0m\n\u001b[1;32m    185\u001b[0m \u001b[0;34m\u001b[0m\u001b[0m\n\u001b[0;32m--> 186\u001b[0;31m         \u001b[0;32mfor\u001b[0m \u001b[0mval\u001b[0m \u001b[0;32min\u001b[0m \u001b[0mOrderedDict\u001b[0m\u001b[0;34m.\u001b[0m\u001b[0mfromkeys\u001b[0m\u001b[0;34m(\u001b[0m\u001b[0mdata\u001b[0m\u001b[0;34m)\u001b[0m\u001b[0;34m:\u001b[0m\u001b[0;34m\u001b[0m\u001b[0m\n\u001b[0m\u001b[1;32m    187\u001b[0m             \u001b[0;32mif\u001b[0m \u001b[0;32mnot\u001b[0m \u001b[0misinstance\u001b[0m\u001b[0;34m(\u001b[0m\u001b[0mval\u001b[0m\u001b[0;34m,\u001b[0m \u001b[0;34m(\u001b[0m\u001b[0mstr\u001b[0m\u001b[0;34m,\u001b[0m \u001b[0mbytes\u001b[0m\u001b[0;34m)\u001b[0m\u001b[0;34m)\u001b[0m\u001b[0;34m:\u001b[0m\u001b[0;34m\u001b[0m\u001b[0m\n\u001b[1;32m    188\u001b[0m                 \u001b[0;32mraise\u001b[0m \u001b[0mTypeError\u001b[0m\u001b[0;34m(\u001b[0m\u001b[0;34m\"{val!r} is not a string\"\u001b[0m\u001b[0;34m.\u001b[0m\u001b[0mformat\u001b[0m\u001b[0;34m(\u001b[0m\u001b[0mval\u001b[0m\u001b[0;34m=\u001b[0m\u001b[0mval\u001b[0m\u001b[0;34m)\u001b[0m\u001b[0;34m)\u001b[0m\u001b[0;34m\u001b[0m\u001b[0m\n",
      "\u001b[0;31mTypeError\u001b[0m: unhashable type: 'numpy.ndarray'"
     ]
    },
    {
     "data": {
      "image/png": "[encoded data removed]",
      "text/plain": [
       "<Figure size 432x288 with 2 Axes>"
      ]
     },
     "metadata": {
      "needs_background": "light"
     },
     "output_type": "display_data"
    }
   ],
   "source": [
    "new_data = list(range(3))\n",
    "fig, axs1 = mp.subplots()\n",
    "axs2 = axs1.twinx()\n",
    "axs1.plot(new_data,our_data['Age'], 'r-')\n",
    "axs2.plot(data,data['Age'], 'b-')\n",
    "\n",
    "axs1.set_xlabel('X ')\n",
    "axs1.set_ylabel('Age', color='r')\n",
    "axs2.set_ylabel('Pulse', color='b')"
   ]
  },
  {
   "cell_type": "code",
   "execution_count": 117,
   "metadata": {},
   "outputs": [
    {
     "data": {
      "text/plain": [
       "0    24\n",
       "1    23\n",
       "2    23\n",
       "Name: Age, dtype: int64"
      ]
     },
     "execution_count": 117,
     "metadata": {},
     "output_type": "execute_result"
    }
   ],
   "source": [
    "our_data['Age']"
   ]
  },
  {
   "cell_type": "code",
   "execution_count": 118,
   "metadata": {},
   "outputs": [
    {
     "data": {
      "text/plain": [
       "0     24.0\n",
       "1     26.0\n",
       "2     27.0\n",
       "3     28.0\n",
       "4     25.0\n",
       "5     28.0\n",
       "6     22.0\n",
       "7     23.0\n",
       "8     28.0\n",
       "9     28.0\n",
       "10    27.0\n",
       "11    28.0\n",
       "12    22.0\n",
       "13    23.0\n",
       "14    24.0\n",
       "15    23.0\n",
       "16    23.0\n",
       "17    28.0\n",
       "18    25.0\n",
       "19    30.0\n",
       "Name: Age, dtype: float64"
      ]
     },
     "execution_count": 118,
     "metadata": {},
     "output_type": "execute_result"
    }
   ],
   "source": [
    "data['Age']"
   ]
  },
  {
   "cell_type": "code",
   "execution_count": null,
   "metadata": {},
   "outputs": [],
   "source": []
  }
 ],
 "metadata": {
  "kernelspec": {
   "display_name": "Python 3",
   "language": "python",
   "name": "python3"
  },
  "language_info": {
   "codemirror_mode": {
    "name": "ipython",
    "version": 3
   },
   "file_extension": ".py",
   "mimetype": "text/x-python",
   "name": "python",
   "nbconvert_exporter": "python",
   "pygments_lexer": "ipython3",
   "version": "3.6.6"
  }
 },
 "nbformat": 4,
 "nbformat_minor": 2
}
